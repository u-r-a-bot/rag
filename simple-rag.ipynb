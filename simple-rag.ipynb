{
 "cells": [
  {
   "cell_type": "markdown",
   "metadata": {},
   "source": [
    "## RAG\n",
    "* Retrieval of relevant information from a document\n",
    "* Augment the relevant information\n",
    "* Generate a summary of the relevant information"
   ]
  },
  {
   "cell_type": "code",
   "execution_count": 1,
   "metadata": {},
   "outputs": [
    {
     "name": "stdout",
     "output_type": "stream",
     "text": [
      "Thu Sep 26 17:32:57 2024       \n",
      "+---------------------------------------------------------------------------------------+\n",
      "| NVIDIA-SMI 535.183.01             Driver Version: 535.183.01   CUDA Version: 12.2     |\n",
      "|-----------------------------------------+----------------------+----------------------+\n",
      "| GPU  Name                 Persistence-M | Bus-Id        Disp.A | Volatile Uncorr. ECC |\n",
      "| Fan  Temp   Perf          Pwr:Usage/Cap |         Memory-Usage | GPU-Util  Compute M. |\n",
      "|                                         |                      |               MIG M. |\n",
      "|=========================================+======================+======================|\n",
      "|   0  NVIDIA GeForce RTX 3080 Ti     Off | 00000000:01:00.0 Off |                  N/A |\n",
      "|  0%   51C    P8              18W / 350W |     10MiB / 12288MiB |      0%      Default |\n",
      "|                                         |                      |                  N/A |\n",
      "+-----------------------------------------+----------------------+----------------------+\n",
      "                                                                                         \n",
      "+---------------------------------------------------------------------------------------+\n",
      "| Processes:                                                                            |\n",
      "|  GPU   GI   CI        PID   Type   Process name                            GPU Memory |\n",
      "|        ID   ID                                                             Usage      |\n",
      "|=======================================================================================|\n",
      "|    0   N/A  N/A      1559      G   /usr/lib/xorg/Xorg                            4MiB |\n",
      "+---------------------------------------------------------------------------------------+\n"
     ]
    }
   ],
   "source": [
    "!nvidia-smi"
   ]
  },
  {
   "cell_type": "markdown",
   "metadata": {},
   "source": [
    "## Steps to follow\n",
    "1. Open a pdf\n",
    "2. Format text\n",
    "3. Embed chunks of text and turn into embedding\n",
    "4. Build a retrieval system\n",
    "5. Generate a prompt that incorporates retrieved pieces of text\n",
    "6. Generate answer"
   ]
  },
  {
   "cell_type": "markdown",
   "metadata": {},
   "source": [
    "Github link format for raw files\n",
    "example\n",
    "https://github.com/mrdbourke/simple-local-rag/blob/main/human-nutrition-text.pdf\n",
    "instead of blob replace with raw/refs/heads\n",
    "https://github.com/mrdbourke/simple-local-rag/raw/refs/heads/main/human-nutrition-text.pdf"
   ]
  },
  {
   "cell_type": "code",
   "execution_count": 6,
   "metadata": {},
   "outputs": [
    {
     "name": "stdout",
     "output_type": "stream",
     "text": [
      "File not exist \n"
     ]
    },
    {
     "data": {
      "application/vnd.jupyter.widget-view+json": {
       "model_id": "9aaec2e86be64301b5f046ee174127dd",
       "version_major": 2,
       "version_minor": 0
      },
      "text/plain": [
       "  0%|          | 0/26891229.0 [00:00<?, ?it/s]"
      ]
     },
     "metadata": {},
     "output_type": "display_data"
    },
    {
     "name": "stdout",
     "output_type": "stream",
     "text": [
      "File downloaded\n"
     ]
    }
   ],
   "source": [
    "import os\n",
    "import requests\n",
    "from tqdm.auto import tqdm\n",
    "\n",
    "pdf_path = \"human-nutrition-text.pdf\"\n",
    "\n",
    "if not os.path.exists(pdf_path):\n",
    "    print(\"File not exist \")\n",
    "\n",
    "    url = \"https://pressbooks.oer.hawaii.edu/humannutrition2/open/download?type=pdf\"\n",
    "    filename = pdf_path\n",
    "    request = requests.get(url,\n",
    "                        #    stream=True\n",
    "                           )\n",
    "    if request.status_code == 200:\n",
    "        with open(filename, \"wb\") as f:\n",
    "            for buffer in tqdm(request.iter_content(),total=float(request.headers['Content-Length'])):\n",
    "                f.write(buffer)\n",
    "        print(\"File downloaded\")\n",
    "\n",
    "else:\n",
    "    print(\"File exists\")"
   ]
  },
  {
   "cell_type": "code",
   "execution_count": 9,
   "metadata": {},
   "outputs": [
    {
     "data": {
      "application/vnd.jupyter.widget-view+json": {
       "model_id": "dc46a3a6836842cb97a3281fa3daba43",
       "version_major": 2,
       "version_minor": 0
      },
      "text/plain": [
       "0it [00:00, ?it/s]"
      ]
     },
     "metadata": {},
     "output_type": "display_data"
    },
    {
     "data": {
      "text/plain": [
       "[{'page_number': -41,\n",
       "  'page_char_count': 29,\n",
       "  'page_word_count': 4,\n",
       "  'page_senence_count_raw': 1,\n",
       "  'text': 'Human Nutrition: 2020 Edition'},\n",
       " {'page_number': -40,\n",
       "  'page_char_count': 0,\n",
       "  'page_word_count': 1,\n",
       "  'page_senence_count_raw': 1,\n",
       "  'text': ''}]"
      ]
     },
     "execution_count": 9,
     "metadata": {},
     "output_type": "execute_result"
    }
   ],
   "source": [
    "import fitz\n",
    "\n",
    "def text_formatter(text:str) -> str:\n",
    "    cleaned_text = text.replace(\"\\n\", \" \").strip()\n",
    "\n",
    "    return cleaned_text\n",
    "\n",
    "def open_and_read_pdf(pdf_path: str):\n",
    "    doc = fitz.open(pdf_path)\n",
    "    pages_and_texts = []\n",
    "    for page_number, page in tqdm(enumerate(doc)):\n",
    "        text = page.get_text()\n",
    "        text = text_formatter(text=text)\n",
    "        pages_and_texts.append({\"page_number\": page_number - 41,# 41 substracted as original page numbers start from page 41 in pdf\n",
    "                                \"page_char_count\": len(text),\n",
    "                                \"page_word_count\": len(text.split(\" \")),\n",
    "                                \"page_senence_count_raw\": len(text.split('.')),\n",
    "                                \"text\": text})  \n",
    "        \n",
    "    \n",
    "    return pages_and_texts\n",
    "\n",
    "pages_and_texts = open_and_read_pdf(pdf_path)\n",
    "pages_and_texts[:2]\n"
   ]
  },
  {
   "cell_type": "code",
   "execution_count": 10,
   "metadata": {},
   "outputs": [
    {
     "data": {
      "text/plain": [
       "[{'page_number': 373,\n",
       "  'page_char_count': 732,\n",
       "  'page_word_count': 120,\n",
       "  'page_senence_count_raw': 11,\n",
       "  'text': 'available in the web-based textbook and not available in the  downloadable versions (EPUB, Digital PDF, Print_PDF, or  Open Document).  Learning activities may be used across various mobile  devices, however, for the best user experience it is strongly  recommended that users complete these activities using a  desktop or laptop computer and in Google Chrome.  \\xa0 An interactive or media element has been  excluded from this version of the text. You can  view it online here:  http://pressbooks.oer.hawaii.edu/ humannutrition2/?p=246  \\xa0 An interactive or media element has been  excluded from this version of the text. You can  view it online here:  http://pressbooks.oer.hawaii.edu/ humannutrition2/?p=246  Defining Protein  |  373'},\n",
       " {'page_number': 1011,\n",
       "  'page_char_count': 1416,\n",
       "  'page_word_count': 238,\n",
       "  'page_senence_count_raw': 16,\n",
       "  'text': 'Protecting the Public Health  UNIVERSITY OF HAWAI‘I AT MĀNOA FOOD SCIENCE AND HUMAN  NUTRITION PROGRAM AND HUMAN NUTRITION PROGRAM  Most foodborne infections go unreported and undiagnosed.  However, the CDC estimates that about seventy-six million people  in the United States become ill from foodborne pathogens or other  agents every year. In North America, a number of government  agencies work to educate the public about food infections and  intoxications, prevent the spread of disease, and quell any major  problems or outbreaks. They include the CDC, the FDA, and the  USDA, among other organizations.  Efforts on the Governmental Level  A number of government agencies work to ensure food safety and to  protect the public from foodborne illness. Food regulatory agencies  work to protect the consumer and ensure the safety of our food.  Food and drug regulation in the United States began in the late  nineteenth century when state and local governments began to  enact regulatory policies. In 1906, Congress passed the Pure Food  and Drugs Act, which led to the creation of the US Food and Drug  Administration (FDA). Today, a number of agencies are in charge of  monitoring how food is produced, processed, and packaged.1  1.\\xa0History of Food and Drug Regulation in the United  States. (2010). EH.Net Encyclopedia.  http://eh.net/?s=History+of+Food+and+Drug+Regulatio Protecting the Public Health  |  1011'},\n",
       " {'page_number': 652,\n",
       "  'page_char_count': 1271,\n",
       "  'page_word_count': 208,\n",
       "  'page_senence_count_raw': 18,\n",
       "  'text': 'recommendations and sources of trace minerals  Trace minerals are classified as minerals required in the diet each  day in smaller amounts, specifically 100 milligrams or less. \\xa0These  include copper, zinc, selenium, iodine, chromium, fluoride,  manganese, molybdenum, and others. \\xa0Although trace minerals are  needed in smaller amounts it is important to remember that a  deficiency in a trace mineral can be just as detrimental to your  health as a major mineral deficiency. Iodine deficiency is a major  concern in countries around the world such as Fiji. \\xa0In the 1990’s,  almost 50% of the population had signs of iodine deficiency also  known as goiter. To combat this national issue, the government  of Fiji banned non-iodized salt and allowed only fortified iodized  salt into the country in hopes of increasing the consumption of  iodine in people’s diets. \\xa0With this law, and health promotion efforts  encouraging the consumption of seafood, great progress has been  made in decreasing the prevalence of iodine deficiency in Fiji.1  Figure 11.1 The Trace Minerals  1.\\xa0Micronutrient Deficiencies. (2015). \\xa0Ministry of Health  and Medical Services, Shaping Fiji’s Health.  http://www.health.gov.fj/?page_id=1406. \\xa0Accessed  November 12, 2017.  652  |  Introduction'}]"
      ]
     },
     "execution_count": 10,
     "metadata": {},
     "output_type": "execute_result"
    }
   ],
   "source": [
    "import random\n",
    "random.sample(pages_and_texts, 3)"
   ]
  },
  {
   "cell_type": "code",
   "execution_count": 11,
   "metadata": {},
   "outputs": [
    {
     "data": {
      "text/html": [
       "<div>\n",
       "<style scoped>\n",
       "    .dataframe tbody tr th:only-of-type {\n",
       "        vertical-align: middle;\n",
       "    }\n",
       "\n",
       "    .dataframe tbody tr th {\n",
       "        vertical-align: top;\n",
       "    }\n",
       "\n",
       "    .dataframe thead th {\n",
       "        text-align: right;\n",
       "    }\n",
       "</style>\n",
       "<table border=\"1\" class=\"dataframe\">\n",
       "  <thead>\n",
       "    <tr style=\"text-align: right;\">\n",
       "      <th></th>\n",
       "      <th>page_number</th>\n",
       "      <th>page_char_count</th>\n",
       "      <th>page_word_count</th>\n",
       "      <th>page_senence_count_raw</th>\n",
       "      <th>text</th>\n",
       "    </tr>\n",
       "  </thead>\n",
       "  <tbody>\n",
       "    <tr>\n",
       "      <th>0</th>\n",
       "      <td>-41</td>\n",
       "      <td>29</td>\n",
       "      <td>4</td>\n",
       "      <td>1</td>\n",
       "      <td>Human Nutrition: 2020 Edition</td>\n",
       "    </tr>\n",
       "    <tr>\n",
       "      <th>1</th>\n",
       "      <td>-40</td>\n",
       "      <td>0</td>\n",
       "      <td>1</td>\n",
       "      <td>1</td>\n",
       "      <td></td>\n",
       "    </tr>\n",
       "    <tr>\n",
       "      <th>2</th>\n",
       "      <td>-39</td>\n",
       "      <td>320</td>\n",
       "      <td>54</td>\n",
       "      <td>1</td>\n",
       "      <td>Human Nutrition: 2020  Edition  UNIVERSITY OF ...</td>\n",
       "    </tr>\n",
       "    <tr>\n",
       "      <th>3</th>\n",
       "      <td>-38</td>\n",
       "      <td>212</td>\n",
       "      <td>32</td>\n",
       "      <td>3</td>\n",
       "      <td>Human Nutrition: 2020 Edition by University of...</td>\n",
       "    </tr>\n",
       "    <tr>\n",
       "      <th>4</th>\n",
       "      <td>-37</td>\n",
       "      <td>797</td>\n",
       "      <td>145</td>\n",
       "      <td>3</td>\n",
       "      <td>Contents  Preface  University of Hawai‘i at Mā...</td>\n",
       "    </tr>\n",
       "  </tbody>\n",
       "</table>\n",
       "</div>"
      ],
      "text/plain": [
       "   page_number  page_char_count  page_word_count  page_senence_count_raw  \\\n",
       "0          -41               29                4                       1   \n",
       "1          -40                0                1                       1   \n",
       "2          -39              320               54                       1   \n",
       "3          -38              212               32                       3   \n",
       "4          -37              797              145                       3   \n",
       "\n",
       "                                                text  \n",
       "0                      Human Nutrition: 2020 Edition  \n",
       "1                                                     \n",
       "2  Human Nutrition: 2020  Edition  UNIVERSITY OF ...  \n",
       "3  Human Nutrition: 2020 Edition by University of...  \n",
       "4  Contents  Preface  University of Hawai‘i at Mā...  "
      ]
     },
     "execution_count": 11,
     "metadata": {},
     "output_type": "execute_result"
    }
   ],
   "source": [
    "import pandas as pd\n",
    "df = pd.DataFrame(pages_and_texts)\n",
    "df.head()"
   ]
  },
  {
   "cell_type": "code",
   "execution_count": 12,
   "metadata": {},
   "outputs": [
    {
     "data": {
      "text/html": [
       "<div>\n",
       "<style scoped>\n",
       "    .dataframe tbody tr th:only-of-type {\n",
       "        vertical-align: middle;\n",
       "    }\n",
       "\n",
       "    .dataframe tbody tr th {\n",
       "        vertical-align: top;\n",
       "    }\n",
       "\n",
       "    .dataframe thead th {\n",
       "        text-align: right;\n",
       "    }\n",
       "</style>\n",
       "<table border=\"1\" class=\"dataframe\">\n",
       "  <thead>\n",
       "    <tr style=\"text-align: right;\">\n",
       "      <th></th>\n",
       "      <th>page_number</th>\n",
       "      <th>page_char_count</th>\n",
       "      <th>page_word_count</th>\n",
       "      <th>page_senence_count_raw</th>\n",
       "    </tr>\n",
       "  </thead>\n",
       "  <tbody>\n",
       "    <tr>\n",
       "      <th>count</th>\n",
       "      <td>1208.00</td>\n",
       "      <td>1208.00</td>\n",
       "      <td>1208.00</td>\n",
       "      <td>1208.00</td>\n",
       "    </tr>\n",
       "    <tr>\n",
       "      <th>mean</th>\n",
       "      <td>562.50</td>\n",
       "      <td>1148.00</td>\n",
       "      <td>198.30</td>\n",
       "      <td>14.18</td>\n",
       "    </tr>\n",
       "    <tr>\n",
       "      <th>std</th>\n",
       "      <td>348.86</td>\n",
       "      <td>560.38</td>\n",
       "      <td>95.76</td>\n",
       "      <td>9.54</td>\n",
       "    </tr>\n",
       "    <tr>\n",
       "      <th>min</th>\n",
       "      <td>-41.00</td>\n",
       "      <td>0.00</td>\n",
       "      <td>1.00</td>\n",
       "      <td>1.00</td>\n",
       "    </tr>\n",
       "    <tr>\n",
       "      <th>25%</th>\n",
       "      <td>260.75</td>\n",
       "      <td>762.00</td>\n",
       "      <td>134.00</td>\n",
       "      <td>8.00</td>\n",
       "    </tr>\n",
       "    <tr>\n",
       "      <th>50%</th>\n",
       "      <td>562.50</td>\n",
       "      <td>1231.50</td>\n",
       "      <td>214.50</td>\n",
       "      <td>13.00</td>\n",
       "    </tr>\n",
       "    <tr>\n",
       "      <th>75%</th>\n",
       "      <td>864.25</td>\n",
       "      <td>1603.50</td>\n",
       "      <td>271.00</td>\n",
       "      <td>19.00</td>\n",
       "    </tr>\n",
       "    <tr>\n",
       "      <th>max</th>\n",
       "      <td>1166.00</td>\n",
       "      <td>2308.00</td>\n",
       "      <td>429.00</td>\n",
       "      <td>82.00</td>\n",
       "    </tr>\n",
       "  </tbody>\n",
       "</table>\n",
       "</div>"
      ],
      "text/plain": [
       "       page_number  page_char_count  page_word_count  page_senence_count_raw\n",
       "count      1208.00          1208.00          1208.00                 1208.00\n",
       "mean        562.50          1148.00           198.30                   14.18\n",
       "std         348.86           560.38            95.76                    9.54\n",
       "min         -41.00             0.00             1.00                    1.00\n",
       "25%         260.75           762.00           134.00                    8.00\n",
       "50%         562.50          1231.50           214.50                   13.00\n",
       "75%         864.25          1603.50           271.00                   19.00\n",
       "max        1166.00          2308.00           429.00                   82.00"
      ]
     },
     "execution_count": 12,
     "metadata": {},
     "output_type": "execute_result"
    }
   ],
   "source": [
    "df.describe().round(2)"
   ]
  },
  {
   "cell_type": "code",
   "execution_count": null,
   "metadata": {},
   "outputs": [],
   "source": []
  }
 ],
 "metadata": {
  "kernelspec": {
   "display_name": "torch-env",
   "language": "python",
   "name": "python3"
  },
  "language_info": {
   "codemirror_mode": {
    "name": "ipython",
    "version": 3
   },
   "file_extension": ".py",
   "mimetype": "text/x-python",
   "name": "python",
   "nbconvert_exporter": "python",
   "pygments_lexer": "ipython3",
   "version": "3.11.9"
  }
 },
 "nbformat": 4,
 "nbformat_minor": 2
}
